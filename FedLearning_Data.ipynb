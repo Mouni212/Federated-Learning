{
 "cells": [
  {
   "cell_type": "code",
   "execution_count": 236,
   "id": "127b449b",
   "metadata": {},
   "outputs": [],
   "source": [
    "from tensorflow.keras.datasets import mnist\n",
    "import numpy as np\n",
    "import math as m\n",
    "import random\n",
    "(train_images, train_labels), (test_images, test_labels) = mnist.load_data()"
   ]
  },
  {
   "cell_type": "code",
   "execution_count": 237,
   "id": "cffc27c1",
   "metadata": {},
   "outputs": [],
   "source": [
    "d = []\n",
    "for i in range(10):\n",
    "    d.append(train_images[train_labels == i])"
   ]
  },
  {
   "cell_type": "code",
   "execution_count": 238,
   "id": "2b021fa5",
   "metadata": {},
   "outputs": [],
   "source": [
    "def get_data(nif, n_client = 4, n_class = 8):\n",
    "    \"\"\"non-independence factor is 0.0 to 1.0. Basically 0.0 means complete independence while 1.0 means that all the models are fed with the same data.\n",
    "    Try to make n_class a multiple of n_client\n",
    "    ccr is the class-to-client ratio, \n",
    "    \n",
    "    returns two lists, one containing n_client training data sets, the other containing n_class label sets\n",
    "    each training data set and label set is a ndarray\"\"\"\n",
    "    data_set = []\n",
    "    data_labels = []\n",
    "    ccr = m.floor(n_class / n_client)\n",
    "    alpha = nif - nif / n_client\n",
    "    for i in range(n_client):\n",
    "        data = np.empty((1, 28, 28))\n",
    "        label = np.array([])\n",
    "        for j in range(n_class):\n",
    "            if (j > ccr * i - 1 and j < ccr * i + ccr):\n",
    "                n_data = round((1 - alpha) * d[j].shape[0])\n",
    "                index = random.sample(sorted(range(d[j].shape[0])), n_data)\n",
    "            else:\n",
    "                n_data = round(alpha / (n_client - 1) * d[j].shape[0])\n",
    "                index = random.sample(sorted(range(d[j].shape[0])), n_data)\n",
    "            data = np.append(data, d[j][index], 0)\n",
    "            label = np.append(label, j * np.ones(n_data))\n",
    "        data_set.append(data[1:])\n",
    "        data_labels.append(label)\n",
    "    return (data_set, data_labels)"
   ]
  }
 ],
 "metadata": {
  "kernelspec": {
   "display_name": "Python 3 (ipykernel)",
   "language": "python",
   "name": "python3"
  },
  "language_info": {
   "codemirror_mode": {
    "name": "ipython",
    "version": 3
   },
   "file_extension": ".py",
   "mimetype": "text/x-python",
   "name": "python",
   "nbconvert_exporter": "python",
   "pygments_lexer": "ipython3",
   "version": "3.11.4"
  }
 },
 "nbformat": 4,
 "nbformat_minor": 5
}
