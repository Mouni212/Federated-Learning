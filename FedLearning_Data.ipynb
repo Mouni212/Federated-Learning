{
 "cells": [
  {
   "cell_type": "code",
   "execution_count": 148,
   "id": "127b449b",
   "metadata": {},
   "outputs": [],
   "source": [
    "from tensorflow.keras.datasets import mnist\n",
    "import numpy as np\n",
    "import math as m\n",
    "import random"
   ]
  },
  {
   "cell_type": "code",
   "execution_count": null,
   "id": "3418e3f9",
   "metadata": {},
   "outputs": [],
   "source": [
    "import numpy as np"
   ]
  },
  {
   "cell_type": "code",
   "execution_count": 114,
   "id": "23b8e07a",
   "metadata": {},
   "outputs": [],
   "source": [
    "def get_general(labels, alpha, n_client, nrlabels):\n",
    "    #getting the number of pieces of data that is general to the clients\n",
    "    n_general = {}\n",
    "    for i in nrlabels:\n",
    "        n_general[i] = round(alpha / (n_client - 1) * np.sum(labels == i))\n",
    "    return n_general"
   ]
  },
  {
   "cell_type": "code",
   "execution_count": 146,
   "id": "27f5e0d1",
   "metadata": {},
   "outputs": [],
   "source": [
    "def get_labels(nif, labels, assignment, seed = None):\n",
    "    \"\"\"returns a list of ndarrays, the nth list contains 0s and 1s to show which data are selected for the (n+1)th client.\n",
    "    \n",
    "    nif is the none independence factor. 0 means that the datasets returned for each client are completely independent from each other,\n",
    "    while an nif of 1 means that all the clients have datasets from the same data distributions. for example, when nif is 0 and we have \n",
    "    2 clients and four classes, the first client will only have data from two classes, while the second one only has data from the other\n",
    "    two classes. if it takes on some value between 0 and 1: each dataset will contain more of the classes they are assigned in assignment,\n",
    "    and some of the other classes.\n",
    "    \n",
    "    labels is the (either ndarray or list) of the labels in the training dataset.\n",
    "    \n",
    "    assignment is a (either a list of lists or ndarray) containing the labels for emphasized datasets of each client.\n",
    "    eg. [[0, 1], [2, 3]] or [['cats', 'dogs'], ['frogs', 'pandas']]. these will be the datasets assigned to each client if nif equaled 0.\n",
    "    the clients will be fed more data for these classes unless nif == 1.\n",
    "    \n",
    "    seed is the seed used for random functions, to make sure that identical results are obtainable.\n",
    "    \"\"\"\n",
    "    #getting the length of labels and the number of clients\n",
    "    if (type(labels) == list):\n",
    "        labels = np.array(labels)\n",
    "    n_data = labels.shape[0]\n",
    "    assignment = np.array(assignment)\n",
    "    \n",
    "    \n",
    "    #the different elements in labels\n",
    "    if (type(assignment) == list):\n",
    "        assignment = np.array(assignment)\n",
    "    n_client = assignment.shape[0]\n",
    "    nrlabels = assignment.reshape(-1)\n",
    "    alpha = nif - nif / n_client\n",
    "    n_general = get_general(labels, alpha, n_client, nrlabels)\n",
    "    results = []\n",
    "    for i in range(n_client):\n",
    "        results.append(np.zeros_like(labels))\n",
    "    \n",
    "    \n",
    "    #set the random seed\n",
    "    if (seed != None):\n",
    "        np.random.seed(seed)\n",
    "    \n",
    "    \n",
    "    #assign data without repitition by shuffling \n",
    "    for i in nrlabels:\n",
    "        temp = np.array(np.where(labels == i)[0])\n",
    "        np.random.shuffle(temp)        \n",
    "        for j in range(n_client):\n",
    "            results[j][temp[j * n_general[i] : (j + 1) * n_general[i]]] = 1\n",
    "            if (np.in1d(i, assignment[j])):\n",
    "                results[j][temp[n_client * n_general[i]:]] = 1\n",
    "    return results"
   ]
  }
 ],
 "metadata": {
  "kernelspec": {
   "display_name": "Python 3 (ipykernel)",
   "language": "python",
   "name": "python3"
  },
  "language_info": {
   "codemirror_mode": {
    "name": "ipython",
    "version": 3
   },
   "file_extension": ".py",
   "mimetype": "text/x-python",
   "name": "python",
   "nbconvert_exporter": "python",
   "pygments_lexer": "ipython3",
   "version": "3.11.4"
  }
 },
 "nbformat": 4,
 "nbformat_minor": 5
}
